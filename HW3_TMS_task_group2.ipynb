{
  "cells": [
    {
      "cell_type": "markdown",
      "metadata": {
        "id": "JExdVDTpe63T"
      },
      "source": [
        "# IMPORTS"
      ]
    },
    {
      "cell_type": "code",
      "execution_count": null,
      "metadata": {
        "id": "MBTSXhPae63W",
        "outputId": "e2bf44ec-c280-4b41-b9ac-b6e9539ae70b"
      },
      "outputs": [
        {
          "name": "stdout",
          "output_type": "stream",
          "text": [
            "Requirement already satisfied: mne in c:\\users\\zenbook\\anaconda3\\lib\\site-packages (1.3.0)\n",
            "Requirement already satisfied: decorator in c:\\users\\zenbook\\anaconda3\\lib\\site-packages (from mne) (5.1.1)\n",
            "Requirement already satisfied: matplotlib in c:\\users\\zenbook\\anaconda3\\lib\\site-packages (from mne) (3.5.1)\n",
            "Requirement already satisfied: tqdm in c:\\users\\zenbook\\anaconda3\\lib\\site-packages (from mne) (4.64.0)\n",
            "Requirement already satisfied: packaging in c:\\users\\zenbook\\anaconda3\\lib\\site-packages (from mne) (21.3)\n",
            "Requirement already satisfied: jinja2 in c:\\users\\zenbook\\anaconda3\\lib\\site-packages (from mne) (2.11.3)\n",
            "Requirement already satisfied: scipy>=1.1.0 in c:\\users\\zenbook\\anaconda3\\lib\\site-packages (from mne) (1.7.3)\n",
            "Requirement already satisfied: pooch>=1.5 in c:\\users\\zenbook\\anaconda3\\lib\\site-packages (from mne) (1.6.0)\n",
            "Requirement already satisfied: numpy>=1.15.4 in c:\\users\\zenbook\\anaconda3\\lib\\site-packages (from mne) (1.21.5)\n",
            "Requirement already satisfied: appdirs>=1.3.0 in c:\\users\\zenbook\\anaconda3\\lib\\site-packages (from pooch>=1.5->mne) (1.4.4)\n",
            "Requirement already satisfied: requests>=2.19.0 in c:\\users\\zenbook\\anaconda3\\lib\\site-packages (from pooch>=1.5->mne) (2.27.1)\n",
            "Requirement already satisfied: pyparsing!=3.0.5,>=2.0.2 in c:\\users\\zenbook\\anaconda3\\lib\\site-packages (from packaging->mne) (3.0.4)\n",
            "Requirement already satisfied: certifi>=2017.4.17 in c:\\users\\zenbook\\anaconda3\\lib\\site-packages (from requests>=2.19.0->pooch>=1.5->mne) (2021.10.8)\n",
            "Requirement already satisfied: urllib3<1.27,>=1.21.1 in c:\\users\\zenbook\\anaconda3\\lib\\site-packages (from requests>=2.19.0->pooch>=1.5->mne) (1.26.9)\n",
            "Requirement already satisfied: charset-normalizer~=2.0.0 in c:\\users\\zenbook\\anaconda3\\lib\\site-packages (from requests>=2.19.0->pooch>=1.5->mne) (2.0.4)\n",
            "Requirement already satisfied: idna<4,>=2.5 in c:\\users\\zenbook\\anaconda3\\lib\\site-packages (from requests>=2.19.0->pooch>=1.5->mne) (3.3)\n",
            "Requirement already satisfied: MarkupSafe>=0.23 in c:\\users\\zenbook\\anaconda3\\lib\\site-packages (from jinja2->mne) (2.0.1)\n",
            "Requirement already satisfied: kiwisolver>=1.0.1 in c:\\users\\zenbook\\anaconda3\\lib\\site-packages (from matplotlib->mne) (1.3.2)\n",
            "Requirement already satisfied: cycler>=0.10 in c:\\users\\zenbook\\anaconda3\\lib\\site-packages (from matplotlib->mne) (0.11.0)\n",
            "Requirement already satisfied: python-dateutil>=2.7 in c:\\users\\zenbook\\anaconda3\\lib\\site-packages (from matplotlib->mne) (2.8.2)\n",
            "Requirement already satisfied: fonttools>=4.22.0 in c:\\users\\zenbook\\anaconda3\\lib\\site-packages (from matplotlib->mne) (4.25.0)\n",
            "Requirement already satisfied: pillow>=6.2.0 in c:\\users\\zenbook\\anaconda3\\lib\\site-packages (from matplotlib->mne) (9.0.1)\n",
            "Requirement already satisfied: six>=1.5 in c:\\users\\zenbook\\anaconda3\\lib\\site-packages (from python-dateutil>=2.7->matplotlib->mne) (1.16.0)\n",
            "Requirement already satisfied: colorama in c:\\users\\zenbook\\anaconda3\\lib\\site-packages (from tqdm->mne) (0.4.4)\n"
          ]
        }
      ],
      "source": [
        "!pip install mne\n",
        "import mne\n",
        "import numpy as np\n",
        "import pandas as pd\n",
        "import matplotlib.pyplot as plt\n",
        "import os"
      ]
    },
    {
      "cell_type": "code",
      "execution_count": null,
      "metadata": {
        "id": "535ucEfSe63X",
        "outputId": "0254c34e-89e8-46bf-d0ab-f229009044e8"
      },
      "outputs": [
        {
          "data": {
            "text/plain": [
              "['group 2/1_rest_2023_02_21_13_08_59EMG.edf',\n",
              " 'group 2/2_muscle_contraction_2023_02_21_13_17_55EMG.edf',\n",
              " 'group 2/3_motor_imagery_hand_2023_02_21_13_30_11EMG.edf']"
            ]
          },
          "execution_count": 3,
          "metadata": {},
          "output_type": "execute_result"
        }
      ],
      "source": [
        "filenames = ['group 2/'+i for i in os.listdir('group 2')] # ['data/group2/'+i for i in os.listdir('data/group2')]\n",
        "filenames # first group did two types of imagery - motor imagery of fingers/hand movement and motor imagery of arm/elbow movement\n",
        "# the EMG electrode in both groups in all recordings were placed on FDI muscle"
      ]
    },
    {
      "cell_type": "markdown",
      "metadata": {
        "id": "E3kRWGjje63Y"
      },
      "source": [
        "# DATA LOADING"
      ]
    },
    {
      "cell_type": "markdown",
      "metadata": {
        "id": "BVa8gcFse63Y"
      },
      "source": [
        "### you may run cells from DATA LOADING part without delving into much deatils, it's data loading and epoching of EMG recordings"
      ]
    },
    {
      "cell_type": "code",
      "execution_count": null,
      "metadata": {
        "scrolled": false,
        "id": "NwJMZtdBe63Y",
        "outputId": "636294b1-d43e-4725-b800-bfd1dec10b3d"
      },
      "outputs": [
        {
          "data": {
            "text/html": [
              "<table class=\"table table-hover table-striped table-sm table-responsive small\">\n",
              "    <tr>\n",
              "        <th>Measurement date</th>\n",
              "        \n",
              "        <td>February 21, 2023  13:08:59 GMT</td>\n",
              "        \n",
              "    </tr>\n",
              "    <tr>\n",
              "        <th>Experimenter</th>\n",
              "        \n",
              "        <td>Unknown</td>\n",
              "        \n",
              "    </tr>\n",
              "        <th>Participant</th>\n",
              "        \n",
              "        <td>Unknown</td>\n",
              "        \n",
              "    </tr>\n",
              "    <tr>\n",
              "        <th>Digitized points</th>\n",
              "        \n",
              "        <td>Not available</td>\n",
              "        \n",
              "    </tr>\n",
              "    <tr>\n",
              "        <th>Good channels</th>\n",
              "        <td>4 EEG</td>\n",
              "    </tr>\n",
              "    <tr>\n",
              "        <th>Bad channels</th>\n",
              "        <td>None</td>\n",
              "    </tr>\n",
              "    <tr>\n",
              "        <th>EOG channels</th>\n",
              "        <td>Not available</td>\n",
              "    </tr>\n",
              "    <tr>\n",
              "        <th>ECG channels</th>\n",
              "        <td>Not available</td>\n",
              "    \n",
              "    <tr>\n",
              "        <th>Sampling frequency</th>\n",
              "        <td>3000.00 Hz</td>\n",
              "    </tr>\n",
              "    \n",
              "    \n",
              "    <tr>\n",
              "        <th>Highpass</th>\n",
              "        <td>0.00 Hz</td>\n",
              "    </tr>\n",
              "    \n",
              "    \n",
              "    <tr>\n",
              "        <th>Lowpass</th>\n",
              "        <td>1500.00 Hz</td>\n",
              "    </tr>\n",
              "    \n",
              "    \n",
              "    \n",
              "    <tr>\n",
              "        <th>Filenames</th>\n",
              "        <td>1_rest_2023_02_21_13_08_59EMG.edf</td>\n",
              "    </tr>\n",
              "    \n",
              "    <tr>\n",
              "        <th>Duration</th>\n",
              "        <td>00:08:13 (HH:MM:SS)</td>\n",
              "    </tr>\n",
              "</table>"
            ],
            "text/plain": [
              "<RawEDF | 1_rest_2023_02_21_13_08_59EMG.edf, 4 x 1479000 (493.0 s), ~9 kB, data not loaded>"
            ]
          },
          "execution_count": 4,
          "metadata": {},
          "output_type": "execute_result"
        }
      ],
      "source": [
        "data = mne.io.read_raw_edf(filenames[0], verbose=False)\n",
        "data"
      ]
    },
    {
      "cell_type": "code",
      "execution_count": null,
      "metadata": {
        "id": "kD7PYlAbe63Z",
        "outputId": "0ff44476-c48d-491c-a1d9-dc8f76307f6d"
      },
      "outputs": [
        {
          "data": {
            "text/plain": [
              "['Trig Out', 'FDI', 'Gate In', 'Trig In']"
            ]
          },
          "execution_count": 5,
          "metadata": {},
          "output_type": "execute_result"
        }
      ],
      "source": [
        "data.ch_names"
      ]
    },
    {
      "cell_type": "markdown",
      "metadata": {
        "id": "4dox0NbFe63Z"
      },
      "source": [
        "Sampling frequency of EMG recording - 3000 Hz\n",
        "\n",
        "\n",
        "We have 4 'channels' - ['Trig Out', 'FDI', 'Gate In', 'Trig In'] \n",
        "- we do not need 'Trig Out' and 'Trig In'\n",
        "- 'FDI' is our target muscle\n",
        "- 'Gate In' channel is triggered when the TMS stimulation applied"
      ]
    },
    {
      "cell_type": "code",
      "execution_count": null,
      "metadata": {
        "id": "pZ6JGPyze63Z",
        "outputId": "8799ab34-97f1-4f1d-ac34-fa0d86c14df1"
      },
      "outputs": [
        {
          "data": {
            "image/png": "[encoded data removed]",
            "text/plain": [
              "<Figure size 1440x216 with 1 Axes>"
            ]
          },
          "metadata": {
            "needs_background": "light"
          },
          "output_type": "display_data"
        }
      ],
      "source": [
        "plt.figure(figsize=(20, 3))\n",
        "plt.plot(data.get_data()[2])\n",
        "plt.title('Gate In')\n",
        "plt.show()"
      ]
    },
    {
      "cell_type": "markdown",
      "metadata": {
        "id": "0FL1EfRge63a"
      },
      "source": [
        "The spikes in 'Gate In' channel recording are input from TMS machine about the start of TMS pulses"
      ]
    },
    {
      "cell_type": "code",
      "execution_count": null,
      "metadata": {
        "id": "IBFnd7pZe63a"
      },
      "outputs": [],
      "source": [
        "def get_tms_indices(gate_in): # helping function to find indices of TMS pulses in the Gate In channel in EMG \n",
        "    gate_in[gate_in > 1] = 1\n",
        "    gate_in[gate_in < 1] = 0\n",
        "    tms_indices = np.where(np.diff(gate_in) == 1)[0] + 1\n",
        "    return tms_indices"
      ]
    },
    {
      "cell_type": "code",
      "execution_count": null,
      "metadata": {
        "scrolled": true,
        "id": "EEqdZdAqe63a"
      },
      "outputs": [],
      "source": [
        "fs = 3000\n",
        "t_start = 0.1 # sec\n",
        "t_end = 0.1\n",
        "\n",
        "emg_epochs = []\n",
        "\n",
        "for filename in filenames:\n",
        "    data = mne.io.read_raw_edf(filename, verbose=False)\n",
        "    \n",
        "    emg = data.get_data() \n",
        "    idx = get_tms_indices(emg[2]) # extract indices of beginnings of the epochs\n",
        "    fdi_emg = emg[1] # keep only FDI EMG \n",
        "    \n",
        "    ep = []\n",
        "    for start in idx:\n",
        "        ep.append(fdi_emg[start-int(t_start*fs):start+int(t_end*fs)])\n",
        "    emg_epochs.append(np.array(ep))"
      ]
    },
    {
      "cell_type": "markdown",
      "metadata": {
        "id": "Wu0mfPKUe63b"
      },
      "source": [
        "# HOMEWORK"
      ]
    },
    {
      "cell_type": "markdown",
      "metadata": {
        "id": "CEaNFn8Ye63b"
      },
      "source": [
        "We have extracted epochs from all EMG recordings listed in 'filenames' into list 'emg_epochs'\n",
        "\n",
        "Each element of the list is numpy array with shape (n_epochs, n_timesteps), n_timesteps is 600 (0.2 sec)\n",
        "\n",
        "Discretization frequency of EMG recording is 3000 Hz, epochs start 0.1 sec before the TMS pulse and ends 0.1 sec after the pulse"
      ]
    },
    {
      "cell_type": "code",
      "execution_count": null,
      "metadata": {
        "id": "sI24u72Be63b",
        "outputId": "30766568-7ed6-485a-ea34-66050d1f6251"
      },
      "outputs": [
        {
          "name": "stdout",
          "output_type": "stream",
          "text": [
            "Number of pulses in recodings: [60, 60, 60]\n",
            "Shapes of arrays in emg_epochs: [(60, 600), (60, 600), (60, 600)]\n"
          ]
        }
      ],
      "source": [
        "print('Number of pulses in recodings:', [len(i) for i in emg_epochs])\n",
        "print('Shapes of arrays in emg_epochs:', [i.shape for i in emg_epochs])"
      ]
    },
    {
      "cell_type": "code",
      "execution_count": null,
      "metadata": {
        "id": "-6Wnt5pie63c",
        "outputId": "137ae7c2-9ab7-4c91-96ff-7c3fdfe76c33"
      },
      "outputs": [
        {
          "data": {
            "image/png": "[encoded data removed]",
            "text/plain": [
              "<Figure size 432x288 with 1 Axes>"
            ]
          },
          "metadata": {
            "needs_background": "light"
          },
          "output_type": "display_data"
        }
      ],
      "source": [
        "# for example, here is how we can access first MEP in the first recording (rest) - emg_epochs[0][0]\n",
        "\n",
        "t = np.arange(-int(t_start*fs), int(t_end*fs)) / fs\n",
        "\n",
        "plt.plot(t, emg_epochs[0][0])\n",
        "plt.title('MEP example')\n",
        "plt.xlabel('time, sec')\n",
        "plt.ylabel('Volts')\n",
        "plt.grid()"
      ]
    },
    {
      "cell_type": "markdown",
      "metadata": {
        "id": "ePnDoho5e63c"
      },
      "source": [
        "**Your tasks are (7 points max + bonus):**\n",
        "1. Baseline epochs - from each epoch substract mean value in the period (-0.1-0) sec (1 point)\n",
        "2. Plot average MEP responses for each experimental condition (for group 1, rest-movement-imagery1-imagery2; for group 2, rest-movement-imagery)) (1 point)\n",
        "3. Find peak-to-peak amplitude of the MEP in each epoch and plot boxplots of latencies for each experimental condition (1 point)\n",
        "4. Find latency of the MEP in each epoch and plot boxplots of latencies for each experimental condition. You may come up with different algorithms for that, so the final latencies may vary depending on the algorithm, it's OK (1 point) \n",
        "5. Compare statistically amplitudes and latencies of MEPs in different experimental conditions (2 points)\n",
        "6. Write your conclusions (3-4 sentences) (1 point)\n",
        "\n",
        "\n",
        "**plus 2 bonus points for doing the same analysis for EMG data from another group**"
      ]
    },
    {
      "cell_type": "markdown",
      "metadata": {
        "id": "f9OoTZune63c"
      },
      "source": [
        "![image.png](attachment:image.png)"
      ]
    },
    {
      "cell_type": "code",
      "execution_count": null,
      "metadata": {
        "id": "8RCpFckde63c",
        "outputId": "0f38a583-6660-4fbc-d110-98a0001a2a55"
      },
      "outputs": [
        {
          "name": "stdout",
          "output_type": "stream",
          "text": [
            "Peak-to-peak Amplitudes: [0.0014666113527122915, 0.010796606134126804, 0.0063648843135729015]\n"
          ]
        },
        {
          "data": {
            "image/png": "[encoded data removed]",
            "text/plain": [
              "<Figure size 1440x720 with 1 Axes>"
            ]
          },
          "metadata": {
            "needs_background": "light"
          },
          "output_type": "display_data"
        }
      ],
      "source": [
        "# Baseline epochs - from each epoch substract mean value in the period (-0.1-0) sec \n",
        "emg_baseline = []\n",
        "for epochs in emg_epochs:\n",
        " mean_values = np.mean(epochs[:, :int(-t_start*fs)], axis=1)\n",
        " emg_baseline.append(epochs - mean_values.reshape(-1, 1))\n",
        "\n",
        "# Plotting average MEP responses for each experimental condition (for group 2, rest-movement-imagery)\n",
        "plt.figure(figsize=(20, 10))\n",
        "\n",
        "# Group 2\n",
        "plt.subplot(1, 2, 1)\n",
        "plt.title('Group 2')\n",
        "plt.plot(emg_baseline[0].mean(axis=0), label='Rest')\n",
        "plt.plot(emg_baseline[1].mean(axis=0), label='Movement')\n",
        "plt.plot(emg_baseline[2].mean(axis=0), label='Imagery')\n",
        "plt.legend()\n",
        "\n",
        "\n",
        "# Calculating the peak-to-peak amplitude for each epoch \n",
        "p2p_amplitudes = [] \n",
        "for row in emg_baseline: \n",
        "    p2p_amplitudes.append(np.max(row) - np.min(row)) \n",
        "  \n",
        "# Printing the peak-to-peak amplitudes \n",
        "print(\"Peak-to-peak Amplitudes:\", p2p_amplitudes)"
      ]
    },
    {
      "cell_type": "code",
      "execution_count": null,
      "metadata": {
        "id": "EjTFm2qxe63d",
        "outputId": "2085fed3-22fa-4304-8990-eeb6d6a5edeb"
      },
      "outputs": [
        {
          "data": {
            "image/png": "[encoded data removed]",
            "text/plain": [
              "<Figure size 432x288 with 1 Axes>"
            ]
          },
          "metadata": {
            "needs_background": "light"
          },
          "output_type": "display_data"
        }
      ],
      "source": [
        "all_epochs = np.concatenate(emg_epochs, axis=0)\n",
        "\n",
        "# mean MEP responses\n",
        "mean_meps = np.mean(all_epochs, axis=0)\n",
        "\n",
        "# plot\n",
        "fig, ax = plt.subplots()\n",
        "ax.set_title(\"Average MEP responses\", fontsize=20)\n",
        "ax.plot(mean_meps)\n",
        "plt.xlabel('time, sec')\n",
        "plt.ylabel('Volts')\n",
        "plt.grid()\n",
        "plt.show()"
      ]
    },
    {
      "cell_type": "code",
      "execution_count": null,
      "metadata": {
        "id": "YVRU2h-ye63d",
        "outputId": "8b4a362b-eb90-47b7-84e7-5c710dd65a75"
      },
      "outputs": [
        {
          "name": "stdout",
          "output_type": "stream",
          "text": [
            "rest latency: 395 ms\n",
            "movement latency: 391 ms\n",
            "imagery 1 latency: 394 ms\n"
          ]
        }
      ],
      "source": [
        "rest_mep = np.mean(emg_epochs[0], axis=0)\n",
        "movement_mep = np.mean(emg_epochs[1], axis=0)\n",
        "imagery1_mep = np.mean(emg_epochs[2], axis=0)\n",
        "\n",
        "\n",
        "# Find latency of the MEP in each epoch\n",
        "rest_latency = np.argmax(rest_mep)\n",
        "movement_latency = np.argmax(movement_mep)\n",
        "imagery1_latency = np.argmax(imagery1_mep)\n",
        "\n",
        "\n",
        "print('rest latency:', rest_latency, 'ms')\n",
        "print('movement latency:', movement_latency, 'ms')\n",
        "print('imagery 1 latency:', imagery1_latency, 'ms')"
      ]
    },
    {
      "cell_type": "code",
      "execution_count": null,
      "metadata": {
        "id": "zyQ2sPmQe63d",
        "outputId": "3979b5f2-1d60-4b20-a4ec-23bd946d30dc"
      },
      "outputs": [
        {
          "name": "stdout",
          "output_type": "stream",
          "text": [
            "---- Amplitude ----\n",
            "H-value: 139.1419837846049\n",
            "p-value: 6.105231279792367e-31\n",
            "---- Latency ----\n",
            "H-value: 1.3054609133391746\n",
            "p-value: 0.5206222976464333\n"
          ]
        },
        {
          "data": {
            "image/png": "[encoded data removed]",
            "text/plain": [
              "<Figure size 432x288 with 1 Axes>"
            ]
          },
          "metadata": {
            "needs_background": "light"
          },
          "output_type": "display_data"
        }
      ],
      "source": [
        "from scipy import stats\n",
        "# Calculate latency of MEPs\n",
        "mep_latencies = []\n",
        "for rec in emg_epochs:\n",
        "    mep_latency = []\n",
        "    for epoch in rec:\n",
        "        mep_latency.append(np.argmax(np.abs(epoch))/fs) # calculate latency of each epoch\n",
        "    mep_latencies.append(np.array(mep_latency))\n",
        "    \n",
        "# Plot boxplots of latencies for each experimental condition\n",
        "fig, ax = plt.subplots(1,1)\n",
        "ax.boxplot(mep_latencies)\n",
        "ax.set_xticklabels(['Rest', 'Movement', 'Imagery 1'])\n",
        "ax.set_ylabel('Latency (sec)')\n",
        "ax.set_title('Latency of MEPs in different experimental conditions')\n",
        "\n",
        "# Compare statistically amplitudes and latencies of MEPs in different experimental conditions\n",
        "cond_1_amplitude = []\n",
        "cond_1_latency = []\n",
        "\n",
        "cond_2_amplitude = []\n",
        "cond_2_latency = []\n",
        "\n",
        "cond_3_amplitude = []\n",
        "cond_3_latency = []\n",
        "\n",
        "\n",
        "for i, rec in enumerate(emg_epochs):\n",
        "    for epoch in rec:\n",
        "        if i == 0:\n",
        "            cond_1_amplitude.append(np.max(np.abs(epoch)))\n",
        "            cond_1_latency.append(np.argmax(np.abs(epoch))/fs)\n",
        "        elif i == 1:\n",
        "            cond_2_amplitude.append(np.max(np.abs(epoch)))\n",
        "            cond_2_latency.append(np.argmax(np.abs(epoch))/fs)\n",
        "        elif i == 2:\n",
        "            cond_3_amplitude.append(np.max(np.abs(epoch)))\n",
        "            cond_3_latency.append(np.argmax(np.abs(epoch))/fs)\n",
        "        \n",
        "# Calculate mean of amplitudes and latencies for each condition\n",
        "cond_1_amplitude_mean = np.mean(cond_1_amplitude)\n",
        "cond_1_latency_mean = np.mean(cond_1_latency)\n",
        "\n",
        "cond_2_amplitude_mean = np.mean(cond_2_amplitude)\n",
        "cond_2_latency_mean = np.mean(cond_2_latency)\n",
        "\n",
        "cond_3_amplitude_mean = np.mean(cond_3_amplitude)\n",
        "cond_3_latency_mean = np.mean(cond_3_latency)\n",
        "\n",
        "\n",
        "# Test normality\n",
        "amplitude_stat, p_amp = stats.shapiro(cond_1_amplitude + cond_2_amplitude +\n",
        "                                     cond_3_amplitude)\n",
        "latency_stat, p_lat = stats.shapiro(cond_1_latency + cond_2_latency +\n",
        "                                    cond_3_latency)\n",
        "if p_amp > 0.05 and p_lat > 0.05:\n",
        "    # Perform ANOVA\n",
        "    f_value_amp, p_value_amp = stats.f_oneway(cond_1_amplitude, cond_2_amplitude,\n",
        "                                              cond_3_amplitude)\n",
        "    f_value_lat, p_value_lat = stats.f_oneway(cond_1_latency, cond_2_latency,\n",
        "                                              cond_3_latency)\n",
        "else:\n",
        "    # Perform Kruskal-Wallis H-test\n",
        "    h_value_amp, p_value_amp = stats.kruskal(cond_1_amplitude, cond_2_amplitude,\n",
        "                                             cond_3_amplitude)\n",
        "    h_value_lat, p_value_lat = stats.kruskal(cond_1_latency, cond_2_latency,\n",
        "                                             cond_3_latency)\n",
        "\n",
        "# Print the results\n",
        "if p_amp > 0.05 and p_lat > 0.05:\n",
        "    print ('---- Amplitude ----')\n",
        "    print ('F-value:', f_value_amp)\n",
        "    print ('p-value:', p_value_amp)\n",
        "    print ('---- Latency ----')\n",
        "    print ('F-value:', f_value_lat)\n",
        "    print ('p-value:', p_value_lat)\n",
        "else:\n",
        "    print ('---- Amplitude ----')\n",
        "    print ('H-value:', h_value_amp)\n",
        "    print ('p-value:', p_value_amp)\n",
        "    print ('---- Latency ----')\n",
        "    print ('H-value:', h_value_lat)\n",
        "    print ('p-value:', p_value_lat)"
      ]
    },
    {
      "cell_type": "markdown",
      "metadata": {
        "id": "8VFWJFvpe63e"
      },
      "source": [
        "Conclusions: Based on the statistical analysis, there is a significant difference in MEP amplitudes between the different experimental conditions, as indicated by the very small p-value. However, there was no significant difference in MEP latencies between the conditions, as indicated by the relatively large p-value. These findings suggest that the experimental conditions have an effect on the size of the MEPs, but not on the time it takes for the MEPs to occur."
      ]
    }
  ],
  "metadata": {
    "kernelspec": {
      "display_name": "Python 3 (ipykernel)",
      "language": "python",
      "name": "python3"
    },
    "language_info": {
      "codemirror_mode": {
        "name": "ipython",
        "version": 3
      },
      "file_extension": ".py",
      "mimetype": "text/x-python",
      "name": "python",
      "nbconvert_exporter": "python",
      "pygments_lexer": "ipython3",
      "version": "3.9.12"
    },
    "colab": {
      "provenance": []
    }
  },
  "nbformat": 4,
  "nbformat_minor": 0
}