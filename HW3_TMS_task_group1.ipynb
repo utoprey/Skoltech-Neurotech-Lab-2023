{
  "cells": [
    {
      "cell_type": "markdown",
      "metadata": {
        "id": "view-in-github",
        "colab_type": "text"
      },
      "source": [
        "<a href=\"https://colab.research.google.com/github/utoprey/Skoltech-Neurotech-Lab-2023/blob/main/HW3_TMS_task_group1.ipynb\" target=\"_parent\"><img src=\"https://colab.research.google.com/assets/colab-badge.svg\" alt=\"Open In Colab\"/></a>"
      ]
    },
    {
      "cell_type": "markdown",
      "metadata": {
        "id": "nUFdYMn_ctVW"
      },
      "source": [
        "# IMPORTS"
      ]
    },
    {
      "cell_type": "code",
      "execution_count": null,
      "metadata": {
        "id": "5eANY48FctVZ",
        "outputId": "b43dedd7-80b8-40ab-f218-e1de7ecd7a97"
      },
      "outputs": [
        {
          "name": "stdout",
          "output_type": "stream",
          "text": [
            "Requirement already satisfied: mne in c:\\users\\zenbook\\anaconda3\\lib\\site-packages (1.3.0)\n",
            "Requirement already satisfied: packaging in c:\\users\\zenbook\\anaconda3\\lib\\site-packages (from mne) (21.3)\n",
            "Requirement already satisfied: decorator in c:\\users\\zenbook\\anaconda3\\lib\\site-packages (from mne) (5.1.1)\n",
            "Requirement already satisfied: scipy>=1.1.0 in c:\\users\\zenbook\\anaconda3\\lib\\site-packages (from mne) (1.7.3)\n",
            "Requirement already satisfied: numpy>=1.15.4 in c:\\users\\zenbook\\anaconda3\\lib\\site-packages (from mne) (1.21.5)\n",
            "Requirement already satisfied: jinja2 in c:\\users\\zenbook\\anaconda3\\lib\\site-packages (from mne) (2.11.3)\n",
            "Requirement already satisfied: matplotlib in c:\\users\\zenbook\\anaconda3\\lib\\site-packages (from mne) (3.5.1)\n",
            "Requirement already satisfied: pooch>=1.5 in c:\\users\\zenbook\\anaconda3\\lib\\site-packages (from mne) (1.6.0)\n",
            "Requirement already satisfied: tqdm in c:\\users\\zenbook\\anaconda3\\lib\\site-packages (from mne) (4.64.0)\n",
            "Requirement already satisfied: requests>=2.19.0 in c:\\users\\zenbook\\anaconda3\\lib\\site-packages (from pooch>=1.5->mne) (2.27.1)\n",
            "Requirement already satisfied: appdirs>=1.3.0 in c:\\users\\zenbook\\anaconda3\\lib\\site-packages (from pooch>=1.5->mne) (1.4.4)\n",
            "Requirement already satisfied: pyparsing!=3.0.5,>=2.0.2 in c:\\users\\zenbook\\anaconda3\\lib\\site-packages (from packaging->mne) (3.0.4)\n",
            "Requirement already satisfied: urllib3<1.27,>=1.21.1 in c:\\users\\zenbook\\anaconda3\\lib\\site-packages (from requests>=2.19.0->pooch>=1.5->mne) (1.26.9)\n",
            "Requirement already satisfied: charset-normalizer~=2.0.0 in c:\\users\\zenbook\\anaconda3\\lib\\site-packages (from requests>=2.19.0->pooch>=1.5->mne) (2.0.4)\n",
            "Requirement already satisfied: idna<4,>=2.5 in c:\\users\\zenbook\\anaconda3\\lib\\site-packages (from requests>=2.19.0->pooch>=1.5->mne) (3.3)\n",
            "Requirement already satisfied: certifi>=2017.4.17 in c:\\users\\zenbook\\anaconda3\\lib\\site-packages (from requests>=2.19.0->pooch>=1.5->mne) (2021.10.8)\n",
            "Requirement already satisfied: MarkupSafe>=0.23 in c:\\users\\zenbook\\anaconda3\\lib\\site-packages (from jinja2->mne) (2.0.1)\n",
            "Requirement already satisfied: kiwisolver>=1.0.1 in c:\\users\\zenbook\\anaconda3\\lib\\site-packages (from matplotlib->mne) (1.3.2)\n",
            "Requirement already satisfied: fonttools>=4.22.0 in c:\\users\\zenbook\\anaconda3\\lib\\site-packages (from matplotlib->mne) (4.25.0)\n",
            "Requirement already satisfied: pillow>=6.2.0 in c:\\users\\zenbook\\anaconda3\\lib\\site-packages (from matplotlib->mne) (9.0.1)\n",
            "Requirement already satisfied: cycler>=0.10 in c:\\users\\zenbook\\anaconda3\\lib\\site-packages (from matplotlib->mne) (0.11.0)\n",
            "Requirement already satisfied: python-dateutil>=2.7 in c:\\users\\zenbook\\anaconda3\\lib\\site-packages (from matplotlib->mne) (2.8.2)\n",
            "Requirement already satisfied: six>=1.5 in c:\\users\\zenbook\\anaconda3\\lib\\site-packages (from python-dateutil>=2.7->matplotlib->mne) (1.16.0)\n",
            "Requirement already satisfied: colorama in c:\\users\\zenbook\\anaconda3\\lib\\site-packages (from tqdm->mne) (0.4.4)\n"
          ]
        }
      ],
      "source": [
        "!pip install mne\n",
        "import mne\n",
        "import numpy as np\n",
        "import pandas as pd\n",
        "import matplotlib.pyplot as plt\n",
        "import os"
      ]
    },
    {
      "cell_type": "code",
      "execution_count": null,
      "metadata": {
        "id": "3JyLTBTYctVb",
        "outputId": "8d19e9dc-c9f6-4ce2-c0af-fd1f4f9a5365"
      },
      "outputs": [
        {
          "data": {
            "text/plain": [
              "['group 1/1_rest_2023_02_21_11_37_52EMG.edf',\n",
              " 'group 1/2_muscle_contraction_2023_02_21_11_57_01EMG.edf',\n",
              " 'group 1/3_motor_imagery_hand_2023_02_21_12_05_29EMG.edf',\n",
              " 'group 1/4_motor_imagery_elbow_2023_02_21_12_11_02EMG.edf']"
            ]
          },
          "execution_count": 8,
          "metadata": {},
          "output_type": "execute_result"
        }
      ],
      "source": [
        "filenames = ['group 1/'+i for i in os.listdir('group 1')] # ['data/group2/'+i for i in os.listdir('data/group2')]\n",
        "filenames # first group did two types of imagery - motor imagery of fingers/hand movement and motor imagery of arm/elbow movement\n",
        "# the EMG electrode in both groups in all recordings were placed on FDI muscle"
      ]
    },
    {
      "cell_type": "code",
      "execution_count": null,
      "metadata": {
        "id": "DJ8yR-YactVc",
        "outputId": "df31ae8a-c50d-4f55-ba7c-d04e1d6d69b9"
      },
      "outputs": [
        {
          "data": {
            "text/plain": [
              "['group 2/1_rest_2023_02_21_11_37_52EMG.edf',\n",
              " 'group 2/2_muscle_contraction_2023_02_21_11_57_01EMG.edf',\n",
              " 'group 2/3_motor_imagery_hand_2023_02_21_12_05_29EMG.edf',\n",
              " 'group 2/4_motor_imagery_elbow_2023_02_21_12_11_02EMG.edf']"
            ]
          },
          "execution_count": 6,
          "metadata": {},
          "output_type": "execute_result"
        }
      ],
      "source": [
        "filenames = ['group 2/'+i for i in os.listdir('group 1')] # ['data/group2/'+i for i in os.listdir('data/group2')]\n",
        "filenames # first group did two types of imagery - motor imagery of fingers/hand movement and motor imagery of arm/elbow movement\n",
        "# the EMG electrode in both groups in all recordings were placed on FDI muscle"
      ]
    },
    {
      "cell_type": "markdown",
      "metadata": {
        "id": "QqkPVk3tctVd"
      },
      "source": [
        "# DATA LOADING"
      ]
    },
    {
      "cell_type": "markdown",
      "metadata": {
        "id": "b_UydH1HctVd"
      },
      "source": [
        "### you may run cells from DATA LOADING part without delving into much deatils, it's data loading and epoching of EMG recordings"
      ]
    },
    {
      "cell_type": "code",
      "execution_count": null,
      "metadata": {
        "scrolled": false,
        "id": "tdjBYDWXctVd",
        "outputId": "955b5ce3-846b-4422-a533-b61d4eafb8c6"
      },
      "outputs": [
        {
          "data": {
            "text/html": [
              "<table class=\"table table-hover table-striped table-sm table-responsive small\">\n",
              "    <tr>\n",
              "        <th>Measurement date</th>\n",
              "        \n",
              "        <td>February 21, 2023  11:37:52 GMT</td>\n",
              "        \n",
              "    </tr>\n",
              "    <tr>\n",
              "        <th>Experimenter</th>\n",
              "        \n",
              "        <td>Unknown</td>\n",
              "        \n",
              "    </tr>\n",
              "        <th>Participant</th>\n",
              "        \n",
              "        <td>Unknown</td>\n",
              "        \n",
              "    </tr>\n",
              "    <tr>\n",
              "        <th>Digitized points</th>\n",
              "        \n",
              "        <td>Not available</td>\n",
              "        \n",
              "    </tr>\n",
              "    <tr>\n",
              "        <th>Good channels</th>\n",
              "        <td>4 EEG</td>\n",
              "    </tr>\n",
              "    <tr>\n",
              "        <th>Bad channels</th>\n",
              "        <td>None</td>\n",
              "    </tr>\n",
              "    <tr>\n",
              "        <th>EOG channels</th>\n",
              "        <td>Not available</td>\n",
              "    </tr>\n",
              "    <tr>\n",
              "        <th>ECG channels</th>\n",
              "        <td>Not available</td>\n",
              "    \n",
              "    <tr>\n",
              "        <th>Sampling frequency</th>\n",
              "        <td>3000.00 Hz</td>\n",
              "    </tr>\n",
              "    \n",
              "    \n",
              "    <tr>\n",
              "        <th>Highpass</th>\n",
              "        <td>0.00 Hz</td>\n",
              "    </tr>\n",
              "    \n",
              "    \n",
              "    <tr>\n",
              "        <th>Lowpass</th>\n",
              "        <td>1500.00 Hz</td>\n",
              "    </tr>\n",
              "    \n",
              "    \n",
              "    \n",
              "    <tr>\n",
              "        <th>Filenames</th>\n",
              "        <td>1_rest_2023_02_21_11_37_52EMG.edf</td>\n",
              "    </tr>\n",
              "    \n",
              "    <tr>\n",
              "        <th>Duration</th>\n",
              "        <td>00:17:39 (HH:MM:SS)</td>\n",
              "    </tr>\n",
              "</table>"
            ],
            "text/plain": [
              "<RawEDF | 1_rest_2023_02_21_11_37_52EMG.edf, 4 x 3177000 (1059.0 s), ~9 kB, data not loaded>"
            ]
          },
          "execution_count": 9,
          "metadata": {},
          "output_type": "execute_result"
        }
      ],
      "source": [
        "data = mne.io.read_raw_edf(filenames[0], verbose=False)\n",
        "data"
      ]
    },
    {
      "cell_type": "code",
      "execution_count": null,
      "metadata": {
        "id": "OqaS6TGZctVe",
        "outputId": "4150fb1c-c6c5-4b69-ff5f-c69895d67cca"
      },
      "outputs": [
        {
          "data": {
            "text/plain": [
              "['Trig Out', 'FDI', 'Gate In', 'Trig In']"
            ]
          },
          "execution_count": 10,
          "metadata": {},
          "output_type": "execute_result"
        }
      ],
      "source": [
        "data.ch_names"
      ]
    },
    {
      "cell_type": "markdown",
      "metadata": {
        "id": "Flp7im6ictVe"
      },
      "source": [
        "Sampling frequency of EMG recording - 3000 Hz\n",
        "\n",
        "\n",
        "We have 4 'channels' - ['Trig Out', 'FDI', 'Gate In', 'Trig In'] \n",
        "- we do not need 'Trig Out' and 'Trig In'\n",
        "- 'FDI' is our target muscle\n",
        "- 'Gate In' channel is triggered when the TMS stimulation applied"
      ]
    },
    {
      "cell_type": "code",
      "execution_count": null,
      "metadata": {
        "id": "s08xYIqHctVf",
        "outputId": "67b00906-04c2-4210-967f-9a2dd308ba21"
      },
      "outputs": [
        {
          "data": {
            "image/png": "[encoded data removed]",
            "text/plain": [
              "<Figure size 1440x216 with 1 Axes>"
            ]
          },
          "metadata": {
            "needs_background": "light"
          },
          "output_type": "display_data"
        }
      ],
      "source": [
        "plt.figure(figsize=(20, 3))\n",
        "plt.plot(data.get_data()[2])\n",
        "plt.title('Gate In')\n",
        "plt.show()"
      ]
    },
    {
      "cell_type": "markdown",
      "metadata": {
        "id": "SorRf1LUctVf"
      },
      "source": [
        "The spikes in 'Gate In' channel recording are input from TMS machine about the start of TMS pulses"
      ]
    },
    {
      "cell_type": "code",
      "execution_count": null,
      "metadata": {
        "id": "UbbTOY6uctVg"
      },
      "outputs": [],
      "source": [
        "def get_tms_indices(gate_in): # helping function to find indices of TMS pulses in the Gate In channel in EMG \n",
        "    gate_in[gate_in > 1] = 1\n",
        "    gate_in[gate_in < 1] = 0\n",
        "    tms_indices = np.where(np.diff(gate_in) == 1)[0] + 1\n",
        "    return tms_indices"
      ]
    },
    {
      "cell_type": "code",
      "execution_count": null,
      "metadata": {
        "scrolled": true,
        "id": "uu6w46qjctVg"
      },
      "outputs": [],
      "source": [
        "fs = 3000\n",
        "t_start = 0.1 # sec\n",
        "t_end = 0.1\n",
        "\n",
        "emg_epochs = []\n",
        "\n",
        "for filename in filenames:\n",
        "    data = mne.io.read_raw_edf(filename, verbose=False)\n",
        "    \n",
        "    emg = data.get_data() \n",
        "    idx = get_tms_indices(emg[2]) # extract indices of beginnings of the epochs\n",
        "    fdi_emg = emg[1] # keep only FDI EMG \n",
        "    \n",
        "    ep = []\n",
        "    for start in idx:\n",
        "        ep.append(fdi_emg[start-int(t_start*fs):start+int(t_end*fs)])\n",
        "    emg_epochs.append(np.array(ep))"
      ]
    },
    {
      "cell_type": "markdown",
      "metadata": {
        "id": "2dqxAxUvctVh"
      },
      "source": [
        "# HOMEWORK"
      ]
    },
    {
      "cell_type": "markdown",
      "metadata": {
        "id": "8DeJp4-kctVh"
      },
      "source": [
        "We have extracted epochs from all EMG recordings listed in 'filenames' into list 'emg_epochs'\n",
        "\n",
        "Each element of the list is numpy array with shape (n_epochs, n_timesteps), n_timesteps is 600 (0.2 sec)\n",
        "\n",
        "Discretization frequency of EMG recording is 3000 Hz, epochs start 0.1 sec before the TMS pulse and ends 0.1 sec after the pulse"
      ]
    },
    {
      "cell_type": "code",
      "execution_count": null,
      "metadata": {
        "id": "7vKFDsX6ctVh",
        "outputId": "b50ccf4d-6741-4b94-bd47-4db2d2a99942"
      },
      "outputs": [
        {
          "name": "stdout",
          "output_type": "stream",
          "text": [
            "Number of pulses in recodings: [60, 35, 30, 30]\n",
            "Shapes of arrays in emg_epochs: [(60, 600), (35, 600), (30, 600), (30, 600)]\n"
          ]
        }
      ],
      "source": [
        "print('Number of pulses in recodings:', [len(i) for i in emg_epochs])\n",
        "print('Shapes of arrays in emg_epochs:', [i.shape for i in emg_epochs])"
      ]
    },
    {
      "cell_type": "code",
      "execution_count": null,
      "metadata": {
        "id": "x3LOSnZMctVi"
      },
      "outputs": [],
      "source": [
        "baseline_epochs = []\n",
        "\n",
        "# For each epoch subtract mean value in the period (-0.1-0) sec\n",
        "for epoch in emg_epochs:\n",
        "    baseline_value = np.mean(epoch[:, int(-200*0.001):int(-100*0.01)])\n",
        "    baseline_epochs.append(epoch - baseline_value)"
      ]
    },
    {
      "cell_type": "code",
      "execution_count": null,
      "metadata": {
        "id": "XqYzr5GxctVi",
        "outputId": "72f768d7-f5c9-4e89-b085-8b8a9aeb1026"
      },
      "outputs": [
        {
          "data": {
            "image/png": "[encoded data removed]",
            "text/plain": [
              "<Figure size 432x288 with 1 Axes>"
            ]
          },
          "metadata": {
            "needs_background": "light"
          },
          "output_type": "display_data"
        }
      ],
      "source": [
        "# for example, here is how we can access first MEP in the first recording (rest) - emg_epochs[0][0]\n",
        "\n",
        "t = np.arange(-int(t_start*fs), int(t_end*fs)) / fs\n",
        "\n",
        "plt.plot(t, emg_epochs[0][0])\n",
        "plt.title('MEP example')\n",
        "plt.xlabel('time, sec')\n",
        "plt.ylabel('Volts')\n",
        "plt.grid()"
      ]
    },
    {
      "cell_type": "markdown",
      "metadata": {
        "id": "aHjWs-mSctVi"
      },
      "source": [
        "**Your tasks are (7 points max + bonus):**\n",
        "1. Baseline epochs - from each epoch substract mean value in the period (-0.1-0) sec (1 point)\n",
        "2. Plot average MEP responses for each experimental condition (for group 1, rest-movement-imagery1-imagery2; for group 2, rest-movement-imagery)) (1 point)\n",
        "3. Find peak-to-peak amplitude of the MEP in each epoch and plot boxplots of latencies for each experimental condition (1 point)\n",
        "4. Find latency of the MEP in each epoch and plot boxplots of latencies for each experimental condition. You may come up with different algorithms for that, so the final latencies may vary depending on the algorithm, it's OK (1 point) \n",
        "5. Compare statistically amplitudes and latencies of MEPs in different experimental conditions (2 points)\n",
        "6. Write your conclusions (3-4 sentences) (1 point)\n",
        "\n",
        "\n",
        "**plus 2 bonus points for doing the same analysis for EMG data from another group**"
      ]
    },
    {
      "cell_type": "markdown",
      "metadata": {
        "id": "B9d0sQuActVj"
      },
      "source": [
        "# ![image.png](attachment:image.png)"
      ]
    },
    {
      "cell_type": "markdown",
      "metadata": {
        "id": "gMRR61J0ctVj"
      },
      "source": [
        "# 1. Baseline epochs - from each epoch substract mean value in the period (-0.1-0) sec"
      ]
    },
    {
      "cell_type": "code",
      "execution_count": null,
      "metadata": {
        "id": "76Cw8mJZctVj"
      },
      "outputs": [],
      "source": [
        "# Baseline epochs - from each epoch substract mean value in the period (-0.1-0) sec \n",
        "emg_baseline = []\n",
        "for epochs in emg_epochs:\n",
        " mean_values = np.mean(epochs[:, :int(-t_start*fs)], axis=1)\n",
        " emg_baseline.append(epochs - mean_values.reshape(-1, 1))"
      ]
    },
    {
      "cell_type": "markdown",
      "metadata": {
        "id": "0OHUPXPYctVj"
      },
      "source": [
        "# 2. Plot average MEP responses for each experimental condition (for group 1, rest-movement-imagery1-imagery2"
      ]
    },
    {
      "cell_type": "code",
      "execution_count": null,
      "metadata": {
        "id": "LH6nR8M4ctVj",
        "outputId": "5c5958ed-bcfa-4809-a037-a695f2c03efe"
      },
      "outputs": [
        {
          "data": {
            "text/plain": [
              "<matplotlib.legend.Legend at 0x28d00fa2c10>"
            ]
          },
          "execution_count": 19,
          "metadata": {},
          "output_type": "execute_result"
        },
        {
          "data": {
            "image/png": "[encoded data removed]",
            "text/plain": [
              "<Figure size 1440x720 with 1 Axes>"
            ]
          },
          "metadata": {
            "needs_background": "light"
          },
          "output_type": "display_data"
        }
      ],
      "source": [
        "# Plotting average MEP responses for each experimental condition (for group 1, rest-movement-imagery1-imagery2)\n",
        "plt.figure(figsize=(20, 10))\n",
        "\n",
        "# Group 1\n",
        "plt.subplot(1, 2, 1)\n",
        "plt.title('Group 1')\n",
        "plt.plot(emg_baseline[0].mean(axis=0), label='Rest')\n",
        "plt.plot(emg_baseline[1].mean(axis=0), label='Movement')\n",
        "plt.plot(emg_baseline[2].mean(axis=0), label='Imagery 1')\n",
        "plt.plot(emg_baseline[3].mean(axis=0), label='Imagery 2')\n",
        "plt.legend()"
      ]
    },
    {
      "cell_type": "markdown",
      "metadata": {
        "id": "AQ3JHl0PctVk"
      },
      "source": [
        "# Average MEP responses for all epochs"
      ]
    },
    {
      "cell_type": "code",
      "execution_count": null,
      "metadata": {
        "id": "XqQ4sPkvctVk",
        "outputId": "0cec031b-b910-44a4-82ad-a2a05af0d7b3"
      },
      "outputs": [
        {
          "data": {
            "image/png": "[encoded data removed]",
            "text/plain": [
              "<Figure size 432x288 with 1 Axes>"
            ]
          },
          "metadata": {
            "needs_background": "light"
          },
          "output_type": "display_data"
        }
      ],
      "source": [
        "all_epochs = np.concatenate(emg_epochs, axis=0)\n",
        "\n",
        "# mean MEP responses\n",
        "mean_meps = np.mean(all_epochs, axis=0)\n",
        "\n",
        "# plot\n",
        "fig, ax = plt.subplots()\n",
        "ax.set_title(\"Average MEP responses\", fontsize=20)\n",
        "ax.plot(mean_meps)\n",
        "plt.xlabel('time, sec')\n",
        "plt.ylabel('Volts')\n",
        "plt.grid()\n",
        "plt.show()"
      ]
    },
    {
      "cell_type": "markdown",
      "metadata": {
        "id": "2qymiASOctVk"
      },
      "source": [
        "# 3. Find peak-to-peak amplitude of the MEP in each epoch and plot boxplots of latencies for each experimental condition"
      ]
    },
    {
      "cell_type": "code",
      "execution_count": null,
      "metadata": {
        "id": "hp7Ed1brctVk",
        "outputId": "2d471533-2360-4b2e-fe9e-1682bd8a5abc"
      },
      "outputs": [
        {
          "name": "stdout",
          "output_type": "stream",
          "text": [
            "Peak-to-peak Amplitudes: [0.0019818528725108722, 0.014155229938200963, 0.0026791218127718017, 0.001561058888990616]\n"
          ]
        }
      ],
      "source": [
        "# Calculating the peak-to-peak amplitude for each epoch \n",
        "p2p_amplitudes = [] \n",
        "for row in emg_baseline: \n",
        "    p2p_amplitudes.append(np.max(row) - np.min(row)) \n",
        "  \n",
        "# Printing the peak-to-peak amplitudes \n",
        "print(\"Peak-to-peak Amplitudes:\", p2p_amplitudes)"
      ]
    },
    {
      "cell_type": "markdown",
      "metadata": {
        "id": "lu7iCmBQctVk"
      },
      "source": [
        "# 4. Find latency of the MEP in each epoch and plot boxplots of latencies for each experimental condition"
      ]
    },
    {
      "cell_type": "code",
      "execution_count": null,
      "metadata": {
        "id": "5Sfe16pBctVl",
        "outputId": "e040daa2-401d-4298-ee72-3e6a5d2a7589"
      },
      "outputs": [
        {
          "name": "stdout",
          "output_type": "stream",
          "text": [
            "rest latency: 392 ms\n",
            "movement latency: 395 ms\n",
            "imagery 1 latency: 392 ms\n",
            "imagery 2 latency: 392 ms\n"
          ]
        }
      ],
      "source": [
        "rest_mep = np.mean(emg_epochs[0], axis=0)\n",
        "movement_mep = np.mean(emg_epochs[1], axis=0)\n",
        "imagery1_mep = np.mean(emg_epochs[2], axis=0)\n",
        "imagery2_mep = np.mean(emg_epochs[3], axis=0)\n",
        "\n",
        "# Find latency of the MEP in each epoch\n",
        "rest_latency = np.argmax(rest_mep)\n",
        "movement_latency = np.argmax(movement_mep)\n",
        "imagery1_latency = np.argmax(imagery1_mep)\n",
        "imagery2_latency = np.argmax(imagery2_mep)\n",
        "\n",
        "print('rest latency:', rest_latency, 'ms')\n",
        "print('movement latency:', movement_latency, 'ms')\n",
        "print('imagery 1 latency:', imagery1_latency, 'ms')\n",
        "print('imagery 2 latency:', imagery2_latency, 'ms')\n"
      ]
    },
    {
      "cell_type": "markdown",
      "metadata": {
        "id": "jGYZES3DctVl"
      },
      "source": [
        "# 5. Compare statistically amplitudes and latencies of MEPs in different experimental conditions "
      ]
    },
    {
      "cell_type": "code",
      "execution_count": null,
      "metadata": {
        "id": "JuHd0c-UctVl",
        "outputId": "635493a3-6d07-4225-d014-35e2e08fe393"
      },
      "outputs": [
        {
          "name": "stdout",
          "output_type": "stream",
          "text": [
            "---- Amplitude ----\n",
            "H-value: 97.5215041756698\n",
            "p-value: 5.3009224977014555e-21\n",
            "---- Latency ----\n",
            "H-value: 5.2737746252288265\n",
            "p-value: 0.15281319655102205\n"
          ]
        },
        {
          "data": {
            "image/png": "[encoded data removed]",
            "text/plain": [
              "<Figure size 432x288 with 1 Axes>"
            ]
          },
          "metadata": {
            "needs_background": "light"
          },
          "output_type": "display_data"
        }
      ],
      "source": [
        "# Calculate latency of MEPs\n",
        "mep_latencies = []\n",
        "for rec in emg_epochs:\n",
        "    mep_latency = []\n",
        "    for epoch in rec:\n",
        "        mep_latency.append(np.argmax(np.abs(epoch))/fs) # calculate latency of each epoch\n",
        "    mep_latencies.append(np.array(mep_latency))\n",
        "    \n",
        "# Plot boxplots of latencies for each experimental condition\n",
        "fig, ax = plt.subplots(1,1)\n",
        "ax.boxplot(mep_latencies)\n",
        "ax.set_xticklabels(['Rest', 'Movement', 'Imagery 1', 'Imagery 2'])\n",
        "ax.set_ylabel('Latency (sec)')\n",
        "ax.set_title('Latency of MEPs in different experimental conditions')\n",
        "\n",
        "# Compare statistically amplitudes and latencies of MEPs in different experimental conditions\n",
        "cond_1_amplitude = []\n",
        "cond_1_latency = []\n",
        "\n",
        "cond_2_amplitude = []\n",
        "cond_2_latency = []\n",
        "\n",
        "cond_3_amplitude = []\n",
        "cond_3_latency = []\n",
        "\n",
        "cond_4_amplitude = []\n",
        "cond_4_latency = []\n",
        "\n",
        "for i, rec in enumerate(emg_epochs):\n",
        "    for epoch in rec:\n",
        "        if i == 0:\n",
        "            cond_1_amplitude.append(np.max(np.abs(epoch)))\n",
        "            cond_1_latency.append(np.argmax(np.abs(epoch))/fs)\n",
        "        elif i == 1:\n",
        "            cond_2_amplitude.append(np.max(np.abs(epoch)))\n",
        "            cond_2_latency.append(np.argmax(np.abs(epoch))/fs)\n",
        "        elif i == 2:\n",
        "            cond_3_amplitude.append(np.max(np.abs(epoch)))\n",
        "            cond_3_latency.append(np.argmax(np.abs(epoch))/fs)\n",
        "        else:\n",
        "            cond_4_amplitude.append(np.max(np.abs(epoch)))\n",
        "            cond_4_latency.append(np.argmax(np.abs(epoch))/fs)\n",
        "\n",
        "# Calculate mean of amplitudes and latencies for each condition\n",
        "cond_1_amplitude_mean = np.mean(cond_1_amplitude)\n",
        "cond_1_latency_mean = np.mean(cond_1_latency)\n",
        "\n",
        "cond_2_amplitude_mean = np.mean(cond_2_amplitude)\n",
        "cond_2_latency_mean = np.mean(cond_2_latency)\n",
        "\n",
        "cond_3_amplitude_mean = np.mean(cond_3_amplitude)\n",
        "cond_3_latency_mean = np.mean(cond_3_latency)\n",
        "\n",
        "cond_4_amplitude_mean = np.mean(cond_4_amplitude)\n",
        "cond_4_latency_mean = np.mean(cond_4_latency)\n",
        "\n",
        "# Test normality\n",
        "amplitude_stat, p_amp = stats.shapiro(cond_1_amplitude + cond_2_amplitude +\n",
        "                                     cond_3_amplitude + cond_4_amplitude)\n",
        "latency_stat, p_lat = stats.shapiro(cond_1_latency + cond_2_latency +\n",
        "                                    cond_3_latency + cond_4_latency)\n",
        "if p_amp > 0.05 and p_lat > 0.05:\n",
        "    # Perform ANOVA\n",
        "    f_value_amp, p_value_amp = stats.f_oneway(cond_1_amplitude, cond_2_amplitude,\n",
        "                                              cond_3_amplitude, cond_4_amplitude)\n",
        "    f_value_lat, p_value_lat = stats.f_oneway(cond_1_latency, cond_2_latency,\n",
        "                                              cond_3_latency, cond_4_latency)\n",
        "else:\n",
        "    # Perform Kruskal-Wallis H-test\n",
        "    h_value_amp, p_value_amp = stats.kruskal(cond_1_amplitude, cond_2_amplitude,\n",
        "                                             cond_3_amplitude, cond_4_amplitude)\n",
        "    h_value_lat, p_value_lat = stats.kruskal(cond_1_latency, cond_2_latency,\n",
        "                                             cond_3_latency, cond_4_latency)\n",
        "\n",
        "# Print the results\n",
        "if p_amp > 0.05 and p_lat > 0.05:\n",
        "    print ('---- Amplitude ----')\n",
        "    print ('F-value:', f_value_amp)\n",
        "    print ('p-value:', p_value_amp)\n",
        "    print ('---- Latency ----')\n",
        "    print ('F-value:', f_value_lat)\n",
        "    print ('p-value:', p_value_lat)\n",
        "else:\n",
        "    print ('---- Amplitude ----')\n",
        "    print ('H-value:', h_value_amp)\n",
        "    print ('p-value:', p_value_amp)\n",
        "    print ('---- Latency ----')\n",
        "    print ('H-value:', h_value_lat)\n",
        "    print ('p-value:', p_value_lat)"
      ]
    },
    {
      "cell_type": "markdown",
      "metadata": {
        "id": "qufmCawZctVl"
      },
      "source": [
        "Conclusions: The statistical analysis shows that there is a significant difference in MEP amplitudes between the experimental conditions, as indicated by the high H-value and very low p-value. On the other hand, there is no significant difference in MEP latencies between the experimental conditions, as indicated by the low H-value and relatively high p-value. These results suggest that the experimental conditions have a significant impact on MEP amplitude, but not on MEP latency. "
      ]
    }
  ],
  "metadata": {
    "kernelspec": {
      "display_name": "Python 3 (ipykernel)",
      "language": "python",
      "name": "python3"
    },
    "language_info": {
      "codemirror_mode": {
        "name": "ipython",
        "version": 3
      },
      "file_extension": ".py",
      "mimetype": "text/x-python",
      "name": "python",
      "nbconvert_exporter": "python",
      "pygments_lexer": "ipython3",
      "version": "3.9.12"
    },
    "colab": {
      "provenance": [],
      "include_colab_link": true
    }
  },
  "nbformat": 4,
  "nbformat_minor": 0
}